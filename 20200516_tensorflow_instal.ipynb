{
 "cells": [
  {
   "cell_type": "code",
   "execution_count": 16,
   "metadata": {
    "collapsed": false
   },
   "outputs": [
    {
     "name": "stderr",
     "output_type": "stream",
     "text": [
      "Python 3.6.0 :: Anaconda 4.3.1 (64-bit)\n"
     ]
    },
    {
     "name": "stdout",
     "output_type": "stream",
     "text": [
      "pip 20.1 from c:\\users\\tsubo\\anaconda3\\lib\\site-packages\\pip (python 3.6)\n",
      "\n",
      "virtualenv 20.0.20 from c:\\users\\tsubo\\anaconda3\\lib\\site-packages\\virtualenv\\__init__.py\n"
     ]
    }
   ],
   "source": [
    "!python --version\n",
    "!pip3 --version\n",
    "!virtualenv --version"
   ]
  },
  {
   "cell_type": "code",
   "execution_count": 20,
   "metadata": {
    "collapsed": false
   },
   "outputs": [
    {
     "name": "stdout",
     "output_type": "stream",
     "text": [
      "Requirement already up-to-date: pip in c:\\users\\tsubo\\anaconda3\\lib\\site-packages (20.1)\n",
      "Requirement already up-to-date: virtualenv in c:\\users\\tsubo\\anaconda3\\lib\\site-packages (20.0.20)\n",
      "Requirement already satisfied, skipping upgrade: distlib<1,>=0.3.0 in c:\\users\\tsubo\\anaconda3\\lib\\site-packages (from virtualenv) (0.3.0)\n",
      "Requirement already satisfied, skipping upgrade: filelock<4,>=3.0.0 in c:\\users\\tsubo\\anaconda3\\lib\\site-packages (from virtualenv) (3.0.12)\n",
      "Requirement already satisfied, skipping upgrade: importlib-metadata<2,>=0.12; python_version < \"3.8\" in c:\\users\\tsubo\\anaconda3\\lib\\site-packages (from virtualenv) (1.6.0)\n",
      "Requirement already satisfied, skipping upgrade: importlib-resources<2,>=1.0; python_version < \"3.7\" in c:\\users\\tsubo\\anaconda3\\lib\\site-packages (from virtualenv) (1.5.0)\n",
      "Requirement already satisfied, skipping upgrade: six<2,>=1.9.0 in c:\\users\\tsubo\\anaconda3\\lib\\site-packages (from virtualenv) (1.10.0)\n",
      "Requirement already satisfied, skipping upgrade: appdirs<2,>=1.4.3 in c:\\users\\tsubo\\anaconda3\\lib\\site-packages (from virtualenv) (1.4.4)\n",
      "Requirement already satisfied, skipping upgrade: zipp>=0.5 in c:\\users\\tsubo\\anaconda3\\lib\\site-packages (from importlib-metadata<2,>=0.12; python_version < \"3.8\"->virtualenv) (3.1.0)\n"
     ]
    }
   ],
   "source": [
    "!pip3 install -U pip virtualenv"
   ]
  },
  {
   "cell_type": "code",
   "execution_count": null,
   "metadata": {
    "collapsed": false
   },
   "outputs": [],
   "source": [
    "#https://www.tensorflow.org/install/pip?hl=ja#windows_1\n",
    "#これのwindowsの部分をjupyterの外で行った\n",
    "#virtualenv --system-site-packages -p python3 ./venv\n",
    "#.\\venv\\Scripts\\activate\n",
    "#virtualenv を後で終了する場合は、windowsコンソール内で以下を使用します\n",
    "#deactivate "
   ]
  },
  {
   "cell_type": "code",
   "execution_count": 2,
   "metadata": {
    "collapsed": false
   },
   "outputs": [
    {
     "name": "stdout",
     "output_type": "stream",
     "text": [
      "Collecting tensorflow\n",
      "  Downloading tensorflow-2.2.0-cp36-cp36m-win_amd64.whl (459.1 MB)\n",
      "Collecting astunparse==1.6.3\n",
      "  Downloading astunparse-1.6.3-py2.py3-none-any.whl (12 kB)\n",
      "Collecting protobuf>=3.8.0\n",
      "  Downloading protobuf-3.12.0-cp36-cp36m-win_amd64.whl (1.1 MB)\n",
      "Requirement already satisfied, skipping upgrade: wheel>=0.26; python_version >= \"3\" in c:\\users\\tsubo\\anaconda3\\lib\\site-packages (from tensorflow) (0.29.0)\n",
      "Collecting keras-preprocessing>=1.1.0\n",
      "  Downloading Keras_Preprocessing-1.1.2-py2.py3-none-any.whl (42 kB)\n",
      "Collecting google-pasta>=0.1.8\n",
      "  Downloading google_pasta-0.2.0-py3-none-any.whl (57 kB)\n",
      "Collecting termcolor>=1.1.0\n",
      "  Downloading termcolor-1.1.0.tar.gz (3.9 kB)\n",
      "Collecting tensorflow-estimator<2.3.0,>=2.2.0\n",
      "  Downloading tensorflow_estimator-2.2.0-py2.py3-none-any.whl (454 kB)\n",
      "Collecting numpy<2.0,>=1.16.0\n",
      "  Downloading numpy-1.18.4-cp36-cp36m-win_amd64.whl (12.8 MB)\n",
      "Collecting grpcio>=1.8.6\n",
      "  Downloading grpcio-1.29.0-cp36-cp36m-win_amd64.whl (2.4 MB)\n",
      "Collecting h5py<2.11.0,>=2.10.0\n",
      "  Downloading h5py-2.10.0-cp36-cp36m-win_amd64.whl (2.4 MB)\n",
      "Collecting scipy==1.4.1; python_version >= \"3\"\n",
      "  Downloading scipy-1.4.1-cp36-cp36m-win_amd64.whl (30.8 MB)\n",
      "Collecting six>=1.12.0\n",
      "  Downloading six-1.14.0-py2.py3-none-any.whl (10 kB)\n",
      "Collecting tensorboard<2.3.0,>=2.2.0\n",
      "  Downloading tensorboard-2.2.1-py3-none-any.whl (3.0 MB)\n",
      "Collecting absl-py>=0.7.0\n",
      "  Downloading absl-py-0.9.0.tar.gz (104 kB)\n",
      "Collecting wrapt>=1.11.1\n",
      "  Downloading wrapt-1.12.1.tar.gz (27 kB)\n",
      "Collecting opt-einsum>=2.3.2\n",
      "  Downloading opt_einsum-3.2.1-py3-none-any.whl (63 kB)\n",
      "Collecting gast==0.3.3\n",
      "  Downloading gast-0.3.3-py2.py3-none-any.whl (9.7 kB)\n",
      "Requirement already satisfied, skipping upgrade: setuptools in c:\\users\\tsubo\\anaconda3\\lib\\site-packages\\setuptools-27.2.0-py3.6.egg (from protobuf>=3.8.0->tensorflow) (27.2.0)\n",
      "Collecting google-auth-oauthlib<0.5,>=0.4.1\n",
      "  Downloading google_auth_oauthlib-0.4.1-py2.py3-none-any.whl (18 kB)\n",
      "Collecting requests<3,>=2.21.0\n",
      "  Downloading requests-2.23.0-py2.py3-none-any.whl (58 kB)\n",
      "Collecting google-auth<2,>=1.6.3\n",
      "  Downloading google_auth-1.14.3-py2.py3-none-any.whl (89 kB)\n",
      "Requirement already satisfied, skipping upgrade: werkzeug>=0.11.15 in c:\\users\\tsubo\\anaconda3\\lib\\site-packages (from tensorboard<2.3.0,>=2.2.0->tensorflow) (0.11.15)\n",
      "Collecting tensorboard-plugin-wit>=1.6.0\n",
      "  Downloading tensorboard_plugin_wit-1.6.0.post3-py3-none-any.whl (777 kB)\n",
      "Collecting markdown>=2.6.8\n",
      "  Downloading Markdown-3.2.2-py3-none-any.whl (88 kB)\n",
      "Collecting requests-oauthlib>=0.7.0\n",
      "  Downloading requests_oauthlib-1.3.0-py2.py3-none-any.whl (23 kB)\n",
      "Collecting chardet<4,>=3.0.2\n",
      "  Downloading chardet-3.0.4-py2.py3-none-any.whl (133 kB)\n",
      "Collecting idna<3,>=2.5\n",
      "  Downloading idna-2.9-py2.py3-none-any.whl (58 kB)\n",
      "Collecting urllib3!=1.25.0,!=1.25.1,<1.26,>=1.21.1\n",
      "  Downloading urllib3-1.25.9-py2.py3-none-any.whl (126 kB)\n",
      "Collecting certifi>=2017.4.17\n",
      "  Downloading certifi-2020.4.5.1-py2.py3-none-any.whl (157 kB)\n",
      "Collecting rsa<4.1,>=3.1.4\n",
      "  Downloading rsa-4.0-py2.py3-none-any.whl (38 kB)\n",
      "Collecting pyasn1-modules>=0.2.1\n",
      "  Downloading pyasn1_modules-0.2.8-py2.py3-none-any.whl (155 kB)\n",
      "Collecting cachetools<5.0,>=2.0.0\n",
      "  Downloading cachetools-4.1.0-py3-none-any.whl (10 kB)\n",
      "Requirement already satisfied, skipping upgrade: importlib-metadata; python_version < \"3.8\" in c:\\users\\tsubo\\anaconda3\\lib\\site-packages (from markdown>=2.6.8->tensorboard<2.3.0,>=2.2.0->tensorflow) (1.6.0)\n",
      "Collecting oauthlib>=3.0.0\n",
      "  Downloading oauthlib-3.1.0-py2.py3-none-any.whl (147 kB)\n",
      "Requirement already satisfied, skipping upgrade: pyasn1>=0.1.3 in c:\\users\\tsubo\\anaconda3\\lib\\site-packages (from rsa<4.1,>=3.1.4->google-auth<2,>=1.6.3->tensorboard<2.3.0,>=2.2.0->tensorflow) (0.1.9)\n",
      "Requirement already satisfied, skipping upgrade: zipp>=0.5 in c:\\users\\tsubo\\anaconda3\\lib\\site-packages (from importlib-metadata; python_version < \"3.8\"->markdown>=2.6.8->tensorboard<2.3.0,>=2.2.0->tensorflow) (3.1.0)\n",
      "Building wheels for collected packages: termcolor, absl-py, wrapt\n",
      "  Building wheel for termcolor (setup.py): started\n",
      "  Building wheel for termcolor (setup.py): finished with status 'done'\n",
      "  Created wheel for termcolor: filename=termcolor-1.1.0-py3-none-any.whl size=5685 sha256=2943598961613b98083b57f5d2a252d60c6a9885012ffd7b58f3881eb7f908ac\n",
      "  Stored in directory: c:\\users\\tsubo\\appdata\\local\\pip\\cache\\wheels\\93\\2a\\eb\\e58dbcbc963549ee4f065ff80a59f274cc7210b6eab962acdc\n",
      "  Building wheel for absl-py (setup.py): started\n",
      "  Building wheel for absl-py (setup.py): finished with status 'done'\n",
      "  Created wheel for absl-py: filename=absl_py-0.9.0-py3-none-any.whl size=119300 sha256=3b843e96281faec5fad6218534b4c158c863f895d830410e24654a16f83c3b3c\n",
      "  Stored in directory: c:\\users\\tsubo\\appdata\\local\\pip\\cache\\wheels\\c3\\af\\84\\3962a6af7b4ab336e951b7877dcfb758cf94548bb1771e0679\n",
      "  Building wheel for wrapt (setup.py): started\n",
      "  Building wheel for wrapt (setup.py): finished with status 'done'\n",
      "  Created wheel for wrapt: filename=wrapt-1.12.1-py3-none-any.whl size=21402 sha256=cf5e8a03a8698915373cdf9344a594cbdd975514b4f99fdfe00184e6ffccd9bf\n",
      "  Stored in directory: c:\\users\\tsubo\\appdata\\local\\pip\\cache\\wheels\\32\\42\\7f\\23cae9ff6ef66798d00dc5d659088e57dbba01566f6c60db63\n",
      "Successfully built termcolor absl-py wrapt\n",
      "Installing collected packages: six, astunparse, protobuf, numpy, keras-preprocessing, google-pasta, termcolor, tensorflow-estimator, grpcio, h5py, scipy, oauthlib, chardet, idna, urllib3, certifi, requests, requests-oauthlib, rsa, pyasn1-modules, cachetools, google-auth, google-auth-oauthlib, absl-py, tensorboard-plugin-wit, markdown, tensorboard, wrapt, opt-einsum, gast, tensorflow\n",
      "  Attempting uninstall: six\n",
      "    Found existing installation: six 1.10.0\n"
     ]
    },
    {
     "name": "stderr",
     "output_type": "stream",
     "text": [
      "ERROR: pyasn1-modules 0.2.8 has requirement pyasn1<0.5.0,>=0.4.6, but you'll have pyasn1 0.1.9 which is incompatible.\n",
      "ERROR: google-auth 1.14.3 has requirement setuptools>=40.3.0, but you'll have setuptools 27.2.0 which is incompatible.\n",
      "ERROR: tensorboard 2.2.1 has requirement setuptools>=41.0.0, but you'll have setuptools 27.2.0 which is incompatible.\n",
      "ERROR: Cannot uninstall 'six'. It is a distutils installed project and thus we cannot accurately determine which files belong to it which would lead to only a partial uninstall.\n"
     ]
    }
   ],
   "source": [
    "!pip install --upgrade tensorflow"
   ]
  },
  {
   "cell_type": "code",
   "execution_count": 3,
   "metadata": {
    "collapsed": false
   },
   "outputs": [
    {
     "name": "stderr",
     "output_type": "stream",
     "text": [
      "Traceback (most recent call last):\n",
      "  File \"<string>\", line 1, in <module>\n",
      "ModuleNotFoundError: No module named 'tensorflow'\n"
     ]
    }
   ],
   "source": []
  },
  {
   "cell_type": "code",
   "execution_count": 2,
   "metadata": {
    "collapsed": false
   },
   "outputs": [
    {
     "name": "stdout",
     "output_type": "stream",
     "text": [
      "Package                            Version\n",
      "---------------------------------- -----------\n",
      "absl-py                            0.9.0\n",
      "alabaster                          0.7.9\n",
      "anaconda-client                    1.6.0\n",
      "anaconda-navigator                 1.5\n",
      "anaconda-project                   0.4.1\n",
      "appdirs                            1.4.4\n",
      "astroid                            1.4.9\n",
      "astropy                            1.3\n",
      "astunparse                         1.6.3\n",
      "Babel                              2.3.4\n",
      "backports.shutil-get-terminal-size 1.0.0\n",
      "beautifulsoup4                     4.6.0\n",
      "bitarray                           0.8.1\n",
      "blaze                              0.10.1\n",
      "bokeh                              0.12.4\n",
      "boto                               2.45.0\n",
      "Bottleneck                         1.2.0\n",
      "cachetools                         4.1.0\n",
      "certifi                            2020.4.5.1\n",
      "cffi                               1.9.1\n",
      "chardet                            3.0.4\n",
      "chest                              0.2.3\n",
      "click                              6.7\n",
      "cloudpickle                        0.2.2\n",
      "clyent                             1.2.2\n",
      "colorama                           0.3.7\n",
      "comtypes                           1.1.2\n",
      "conda                              4.3.14\n",
      "configobj                          5.0.6\n",
      "contextlib2                        0.5.4\n",
      "cryptography                       1.7.1\n",
      "cycler                             0.10.0\n",
      "Cython                             0.25.2\n",
      "cytoolz                            0.8.2\n",
      "dask                               0.13.0\n",
      "datashape                          0.5.4\n",
      "decorator                          4.0.11\n",
      "dill                               0.2.5\n",
      "distlib                            0.3.0\n",
      "docutils                           0.13.1\n",
      "et-xmlfile                         1.0.1\n",
      "fastcache                          1.0.2\n",
      "filelock                           3.0.12\n",
      "Flask                              0.12\n",
      "Flask-Cors                         3.0.2\n",
      "gast                               0.3.3\n",
      "gevent                             1.2.1\n",
      "google-auth                        1.14.3\n",
      "google-auth-oauthlib               0.4.1\n",
      "google-pasta                       0.2.0\n",
      "greenlet                           0.4.11\n",
      "grpcio                             1.29.0\n",
      "h5py                               2.10.0\n",
      "HeapDict                           1.0.0\n",
      "idna                               2.9\n",
      "imagesize                          0.7.1\n",
      "importlib-metadata                 1.6.0\n",
      "importlib-resources                1.5.0\n",
      "ipykernel                          4.5.2\n",
      "ipython                            5.1.0\n",
      "ipython-genutils                   0.1.0\n",
      "ipywidgets                         5.2.2\n",
      "isort                              4.2.5\n",
      "itsdangerous                       0.24\n",
      "jdcal                              1.3\n",
      "jedi                               0.9.0\n",
      "Jinja2                             2.9.4\n",
      "jsonschema                         2.5.1\n",
      "jupyter                            1.0.0\n",
      "jupyter-client                     4.4.0\n",
      "jupyter-console                    5.0.0\n",
      "jupyter-core                       4.2.1\n",
      "Keras-Preprocessing                1.1.2\n",
      "lazy-object-proxy                  1.2.2\n",
      "llvmlite                           0.15.0\n",
      "locket                             0.2.0\n",
      "lxml                               3.7.2\n",
      "Markdown                           3.2.2\n",
      "MarkupSafe                         0.23\n",
      "matplotlib                         2.0.0\n",
      "menuinst                           1.4.4\n",
      "mistune                            0.7.3\n",
      "mpmath                             0.19\n",
      "multipledispatch                   0.4.9\n",
      "nbconvert                          4.2.0\n",
      "nbformat                           4.2.0\n",
      "networkx                           1.11\n",
      "nltk                               3.2.2\n",
      "nose                               1.3.7\n",
      "notebook                           4.3.1\n",
      "numba                              0.30.1\n",
      "numexpr                            2.6.1\n",
      "numpy                              1.18.4\n",
      "numpydoc                           0.6.0\n",
      "oauthlib                           3.1.0\n",
      "odo                                0.5.0\n",
      "openpyxl                           2.4.1\n",
      "opt-einsum                         3.2.1\n",
      "pandas                             0.19.2\n",
      "partd                              0.3.7\n",
      "path.py                            0.0.0\n",
      "pathlib2                           2.2.0\n",
      "patsy                              0.4.1\n",
      "pep8                               1.7.0\n",
      "pickleshare                        0.7.4\n",
      "Pillow                             4.0.0\n",
      "pip                                20.1\n",
      "ply                                3.9\n",
      "prompt-toolkit                     1.0.9\n",
      "protobuf                           3.12.0\n",
      "psutil                             5.0.1\n",
      "py                                 1.4.32\n",
      "pyasn1                             0.4.8\n",
      "pyasn1-modules                     0.2.8\n",
      "PyAudio                            0.2.11\n",
      "pycosat                            0.6.1\n",
      "pycparser                          2.17\n",
      "pycrypto                           2.6.1\n",
      "pycurl                             7.43.0\n",
      "pyflakes                           1.5.0\n",
      "Pygments                           2.1.3\n",
      "pylint                             1.6.4\n",
      "pyOpenSSL                          16.2.0\n",
      "pyparsing                          2.1.4\n",
      "pytest                             3.0.5\n",
      "python-dateutil                    2.6.0\n",
      "pytz                               2016.10\n",
      "pywin32                            220\n",
      "PyYAML                             3.12\n",
      "pyzmq                              16.0.2\n",
      "QtAwesome                          0.4.3\n",
      "qtconsole                          4.2.1\n",
      "QtPy                               1.2.1\n",
      "requests                           2.23.0\n",
      "requests-oauthlib                  1.3.0\n",
      "rope-py3k                          0.9.4.post1\n",
      "rsa                                4.0\n",
      "scikit-image                       0.12.3\n",
      "scikit-learn                       0.18.1\n",
      "scipy                              1.4.1\n",
      "seaborn                            0.7.1\n",
      "setuptools                         46.3.1\n",
      "simplegeneric                      0.8.1\n",
      "singledispatch                     3.4.0.3\n",
      "six                                1.14.0\n",
      "snowballstemmer                    1.2.1\n",
      "sockjs-tornado                     1.0.3\n",
      "sphinx                             1.5.1\n",
      "spyder                             3.1.2\n",
      "SQLAlchemy                         1.1.5\n",
      "statsmodels                        0.6.1\n",
      "sympy                              1.0\n",
      "tables                             3.2.2\n",
      "tensorboard                        2.2.1\n",
      "tensorboard-plugin-wit             1.6.0.post3\n",
      "tensorflow                         2.2.0\n",
      "tensorflow-estimator               2.2.0\n",
      "termcolor                          1.1.0\n",
      "toolz                              0.8.2\n",
      "tornado                            4.4.2\n",
      "traitlets                          4.3.1\n",
      "unicodecsv                         0.14.1\n",
      "urllib3                            1.25.9\n",
      "virtualenv                         20.0.20\n",
      "wcwidth                            0.1.7\n",
      "Werkzeug                           1.0.1\n",
      "wheel                              0.34.2\n",
      "widgetsnbextension                 1.2.6\n",
      "win-unicode-console                0.5\n",
      "wrapt                              1.12.1\n",
      "xlrd                               1.0.0\n",
      "XlsxWriter                         0.9.6\n",
      "xlwings                            0.10.2\n",
      "xlwt                               1.2.0\n",
      "zipp                               3.1.0\n"
     ]
    }
   ],
   "source": [
    "!pip list"
   ]
  },
  {
   "cell_type": "code",
   "execution_count": 6,
   "metadata": {
    "collapsed": false
   },
   "outputs": [
    {
     "name": "stdout",
     "output_type": "stream",
     "text": [
      "Collecting tensorflow\n",
      "  Using cached tensorflow-2.2.0-cp36-cp36m-win_amd64.whl (459.1 MB)\n",
      "Collecting six\n",
      "  Using cached six-1.14.0-py2.py3-none-any.whl (10 kB)\n",
      "Collecting gast==0.3.3\n",
      "  Using cached gast-0.3.3-py2.py3-none-any.whl (9.7 kB)\n",
      "Collecting tensorboard<2.3.0,>=2.2.0\n",
      "  Using cached tensorboard-2.2.1-py3-none-any.whl (3.0 MB)\n",
      "Collecting protobuf>=3.8.0\n",
      "  Using cached protobuf-3.12.0-cp36-cp36m-win_amd64.whl (1.1 MB)\n",
      "Collecting tensorflow-estimator<2.3.0,>=2.2.0\n",
      "  Using cached tensorflow_estimator-2.2.0-py2.py3-none-any.whl (454 kB)\n",
      "Collecting google-pasta>=0.1.8\n",
      "  Using cached google_pasta-0.2.0-py3-none-any.whl (57 kB)\n",
      "Processing c:\\users\\tsubo\\appdata\\local\\pip\\cache\\wheels\\c3\\af\\84\\3962a6af7b4ab336e951b7877dcfb758cf94548bb1771e0679\\absl_py-0.9.0-py3-none-any.whl\n",
      "Collecting numpy<2.0,>=1.16.0\n",
      "  Using cached numpy-1.18.4-cp36-cp36m-win_amd64.whl (12.8 MB)\n",
      "Collecting opt-einsum>=2.3.2\n",
      "  Using cached opt_einsum-3.2.1-py3-none-any.whl (63 kB)\n",
      "Processing c:\\users\\tsubo\\appdata\\local\\pip\\cache\\wheels\\93\\2a\\eb\\e58dbcbc963549ee4f065ff80a59f274cc7210b6eab962acdc\\termcolor-1.1.0-py3-none-any.whl\n",
      "Collecting grpcio>=1.8.6\n",
      "  Using cached grpcio-1.29.0-cp36-cp36m-win_amd64.whl (2.4 MB)\n",
      "Processing c:\\users\\tsubo\\appdata\\local\\pip\\cache\\wheels\\32\\42\\7f\\23cae9ff6ef66798d00dc5d659088e57dbba01566f6c60db63\\wrapt-1.12.1-py3-none-any.whl\n",
      "Collecting wheel>=0.26; python_version >= \"3\"\n",
      "  Downloading wheel-0.34.2-py2.py3-none-any.whl (26 kB)\n",
      "Collecting keras-preprocessing>=1.1.0\n",
      "  Using cached Keras_Preprocessing-1.1.2-py2.py3-none-any.whl (42 kB)\n",
      "Collecting astunparse==1.6.3\n",
      "  Using cached astunparse-1.6.3-py2.py3-none-any.whl (12 kB)\n",
      "Collecting h5py<2.11.0,>=2.10.0\n",
      "  Using cached h5py-2.10.0-cp36-cp36m-win_amd64.whl (2.4 MB)\n",
      "Collecting scipy==1.4.1; python_version >= \"3\"\n",
      "  Using cached scipy-1.4.1-cp36-cp36m-win_amd64.whl (30.8 MB)\n",
      "Collecting markdown>=2.6.8\n",
      "  Using cached Markdown-3.2.2-py3-none-any.whl (88 kB)\n",
      "Collecting google-auth-oauthlib<0.5,>=0.4.1\n",
      "  Using cached google_auth_oauthlib-0.4.1-py2.py3-none-any.whl (18 kB)\n",
      "Collecting setuptools>=41.0.0\n",
      "  Using cached setuptools-46.3.1-py3-none-any.whl (582 kB)\n",
      "Collecting werkzeug>=0.11.15\n",
      "  Downloading Werkzeug-1.0.1-py2.py3-none-any.whl (298 kB)\n",
      "Collecting google-auth<2,>=1.6.3\n",
      "  Using cached google_auth-1.14.3-py2.py3-none-any.whl (89 kB)\n",
      "Collecting requests<3,>=2.21.0\n",
      "  Using cached requests-2.23.0-py2.py3-none-any.whl (58 kB)\n",
      "Collecting tensorboard-plugin-wit>=1.6.0\n",
      "  Using cached tensorboard_plugin_wit-1.6.0.post3-py3-none-any.whl (777 kB)\n",
      "Collecting importlib-metadata; python_version < \"3.8\"\n",
      "  Using cached importlib_metadata-1.6.0-py2.py3-none-any.whl (30 kB)\n",
      "Collecting requests-oauthlib>=0.7.0\n",
      "  Using cached requests_oauthlib-1.3.0-py2.py3-none-any.whl (23 kB)\n",
      "Collecting rsa<4.1,>=3.1.4\n",
      "  Using cached rsa-4.0-py2.py3-none-any.whl (38 kB)\n",
      "Collecting pyasn1-modules>=0.2.1\n",
      "  Using cached pyasn1_modules-0.2.8-py2.py3-none-any.whl (155 kB)\n",
      "Collecting cachetools<5.0,>=2.0.0\n",
      "  Using cached cachetools-4.1.0-py3-none-any.whl (10 kB)\n",
      "Collecting idna<3,>=2.5\n",
      "  Using cached idna-2.9-py2.py3-none-any.whl (58 kB)\n",
      "Collecting chardet<4,>=3.0.2\n",
      "  Using cached chardet-3.0.4-py2.py3-none-any.whl (133 kB)\n",
      "Collecting certifi>=2017.4.17\n",
      "  Using cached certifi-2020.4.5.1-py2.py3-none-any.whl (157 kB)\n",
      "Collecting urllib3!=1.25.0,!=1.25.1,<1.26,>=1.21.1\n",
      "  Using cached urllib3-1.25.9-py2.py3-none-any.whl (126 kB)\n",
      "Collecting zipp>=0.5\n",
      "  Using cached zipp-3.1.0-py3-none-any.whl (4.9 kB)\n",
      "Collecting oauthlib>=3.0.0\n",
      "  Using cached oauthlib-3.1.0-py2.py3-none-any.whl (147 kB)\n",
      "Collecting pyasn1>=0.1.3\n",
      "  Using cached pyasn1-0.4.8-py2.py3-none-any.whl (77 kB)\n",
      "Installing collected packages: gast, numpy, six, setuptools, protobuf, zipp, importlib-metadata, markdown, absl-py, idna, chardet, certifi, urllib3, requests, oauthlib, requests-oauthlib, pyasn1, rsa, pyasn1-modules, cachetools, google-auth, google-auth-oauthlib, grpcio, werkzeug, wheel, tensorboard-plugin-wit, tensorboard, tensorflow-estimator, google-pasta, opt-einsum, termcolor, wrapt, keras-preprocessing, astunparse, h5py, scipy, tensorflow\n",
      "Successfully installed absl-py-0.9.0 astunparse-1.6.3 cachetools-4.1.0 certifi-2020.4.5.1 chardet-3.0.4 gast-0.3.3 google-auth-1.14.3 google-auth-oauthlib-0.4.1 google-pasta-0.2.0 grpcio-1.29.0 h5py-2.10.0 idna-2.9 importlib-metadata-1.6.0 keras-preprocessing-1.1.2 markdown-3.2.2 numpy-1.18.4 oauthlib-3.1.0 opt-einsum-3.2.1 protobuf-3.12.0 pyasn1-0.4.8 pyasn1-modules-0.2.8 requests-2.23.0 requests-oauthlib-1.3.0 rsa-4.0 scipy-1.4.1 setuptools-46.3.1 six-1.14.0 tensorboard-2.2.1 tensorboard-plugin-wit-1.6.0.post3 tensorflow-2.2.0 tensorflow-estimator-2.2.0 termcolor-1.1.0 urllib3-1.25.9 werkzeug-1.0.1 wheel-0.34.2 wrapt-1.12.1 zipp-3.1.0\n"
     ]
    }
   ],
   "source": [
    "!pip install tensorflow --ignore-installed six"
   ]
  },
  {
   "cell_type": "code",
   "execution_count": 10,
   "metadata": {
    "collapsed": false
   },
   "outputs": [
    {
     "name": "stderr",
     "output_type": "stream",
     "text": [
      "Traceback (most recent call last):\n",
      "  File \"<string>\", line 1, in <module>\n",
      "  File \"c:\\users\\tsubo\\anaconda3\\lib\\site-packages\\tensorflow\\__init__.py\", line 41, in <module>\n",
      "    from tensorflow.python.tools import module_util as _module_util\n",
      "  File \"c:\\users\\tsubo\\anaconda3\\lib\\site-packages\\tensorflow\\python\\__init__.py\", line 48, in <module>\n",
      "    import numpy as np\n",
      "  File \"c:\\users\\tsubo\\anaconda3\\lib\\site-packages\\numpy\\__init__.py\", line 142, in <module>\n",
      "    from . import core\n",
      "  File \"c:\\users\\tsubo\\anaconda3\\lib\\site-packages\\numpy\\core\\__init__.py\", line 70, in <module>\n",
      "    raise ImportError(msg.format(path))\n",
      "ImportError: Something is wrong with the numpy installation. While importing we detected an older version of numpy in ['c:\\\\users\\\\tsubo\\\\anaconda3\\\\lib\\\\site-packages\\\\numpy']. One method of fixing this is to repeatedly uninstall numpy until none is found, then reinstall this version.\n"
     ]
    }
   ],
   "source": [
    "#インストールを検証\n",
    "\n",
    "!python -c \"import tensorflow as tf;print(tf.reduce_sum(tf.random.normal([1000, 1000])))\""
   ]
  },
  {
   "cell_type": "code",
   "execution_count": 8,
   "metadata": {
    "collapsed": false
   },
   "outputs": [
    {
     "name": "stdout",
     "output_type": "stream",
     "text": [
      "Requirement already up-to-date: numpy in c:\\users\\tsubo\\anaconda3\\lib\\site-packages (1.18.4)\n"
     ]
    }
   ],
   "source": [
    "#!pip install --upgrade numpy"
   ]
  },
  {
   "cell_type": "code",
   "execution_count": 4,
   "metadata": {
    "collapsed": false
   },
   "outputs": [
    {
     "ename": "ImportError",
     "evalue": "Something is wrong with the numpy installation. While importing we detected an older version of numpy in ['C:\\\\Users\\\\tsubo\\\\Anaconda3\\\\lib\\\\site-packages\\\\numpy']. One method of fixing this is to repeatedly uninstall numpy until none is found, then reinstall this version.",
     "output_type": "error",
     "traceback": [
      "\u001b[0;31m---------------------------------------------------------------------------\u001b[0m",
      "\u001b[0;31mImportError\u001b[0m                               Traceback (most recent call last)",
      "\u001b[0;32m<ipython-input-4-41389fad42b5>\u001b[0m in \u001b[0;36m<module>\u001b[0;34m()\u001b[0m\n\u001b[0;32m----> 1\u001b[0;31m \u001b[1;32mimport\u001b[0m \u001b[0mtensorflow\u001b[0m \u001b[1;32mas\u001b[0m \u001b[0mtf\u001b[0m\u001b[1;33m\u001b[0m\u001b[0m\n\u001b[0m",
      "\u001b[0;32mC:\\Users\\tsubo\\Anaconda3\\lib\\site-packages\\tensorflow\\__init__.py\u001b[0m in \u001b[0;36m<module>\u001b[0;34m()\u001b[0m\n\u001b[1;32m     39\u001b[0m \u001b[1;32mimport\u001b[0m \u001b[0msys\u001b[0m \u001b[1;32mas\u001b[0m \u001b[0m_sys\u001b[0m\u001b[1;33m\u001b[0m\u001b[0m\n\u001b[1;32m     40\u001b[0m \u001b[1;33m\u001b[0m\u001b[0m\n\u001b[0;32m---> 41\u001b[0;31m \u001b[1;32mfrom\u001b[0m \u001b[0mtensorflow\u001b[0m\u001b[1;33m.\u001b[0m\u001b[0mpython\u001b[0m\u001b[1;33m.\u001b[0m\u001b[0mtools\u001b[0m \u001b[1;32mimport\u001b[0m \u001b[0mmodule_util\u001b[0m \u001b[1;32mas\u001b[0m \u001b[0m_module_util\u001b[0m\u001b[1;33m\u001b[0m\u001b[0m\n\u001b[0m\u001b[1;32m     42\u001b[0m \u001b[1;32mfrom\u001b[0m \u001b[0mtensorflow\u001b[0m\u001b[1;33m.\u001b[0m\u001b[0mpython\u001b[0m\u001b[1;33m.\u001b[0m\u001b[0mutil\u001b[0m\u001b[1;33m.\u001b[0m\u001b[0mlazy_loader\u001b[0m \u001b[1;32mimport\u001b[0m \u001b[0mLazyLoader\u001b[0m \u001b[1;32mas\u001b[0m \u001b[0m_LazyLoader\u001b[0m\u001b[1;33m\u001b[0m\u001b[0m\n\u001b[1;32m     43\u001b[0m \u001b[1;33m\u001b[0m\u001b[0m\n",
      "\u001b[0;32mC:\\Users\\tsubo\\Anaconda3\\lib\\site-packages\\tensorflow\\python\\__init__.py\u001b[0m in \u001b[0;36m<module>\u001b[0;34m()\u001b[0m\n\u001b[1;32m     46\u001b[0m \u001b[1;31m# pylint: disable=wildcard-import,g-bad-import-order,g-import-not-at-top\u001b[0m\u001b[1;33m\u001b[0m\u001b[1;33m\u001b[0m\u001b[0m\n\u001b[1;32m     47\u001b[0m \u001b[1;33m\u001b[0m\u001b[0m\n\u001b[0;32m---> 48\u001b[0;31m \u001b[1;32mimport\u001b[0m \u001b[0mnumpy\u001b[0m \u001b[1;32mas\u001b[0m \u001b[0mnp\u001b[0m\u001b[1;33m\u001b[0m\u001b[0m\n\u001b[0m\u001b[1;32m     49\u001b[0m \u001b[1;33m\u001b[0m\u001b[0m\n\u001b[1;32m     50\u001b[0m \u001b[1;32mfrom\u001b[0m \u001b[0mtensorflow\u001b[0m\u001b[1;33m.\u001b[0m\u001b[0mpython\u001b[0m \u001b[1;32mimport\u001b[0m \u001b[0mpywrap_tensorflow\u001b[0m\u001b[1;33m\u001b[0m\u001b[0m\n",
      "\u001b[0;32mC:\\Users\\tsubo\\Anaconda3\\lib\\site-packages\\numpy\\__init__.py\u001b[0m in \u001b[0;36m<module>\u001b[0;34m()\u001b[0m\n\u001b[1;32m    140\u001b[0m     \u001b[1;32mfrom\u001b[0m \u001b[1;33m.\u001b[0m \u001b[1;32mimport\u001b[0m \u001b[0m_distributor_init\u001b[0m\u001b[1;33m\u001b[0m\u001b[0m\n\u001b[1;32m    141\u001b[0m \u001b[1;33m\u001b[0m\u001b[0m\n\u001b[0;32m--> 142\u001b[0;31m     \u001b[1;32mfrom\u001b[0m \u001b[1;33m.\u001b[0m \u001b[1;32mimport\u001b[0m \u001b[0mcore\u001b[0m\u001b[1;33m\u001b[0m\u001b[0m\n\u001b[0m\u001b[1;32m    143\u001b[0m     \u001b[1;32mfrom\u001b[0m \u001b[1;33m.\u001b[0m\u001b[0mcore\u001b[0m \u001b[1;32mimport\u001b[0m \u001b[1;33m*\u001b[0m\u001b[1;33m\u001b[0m\u001b[0m\n\u001b[1;32m    144\u001b[0m     \u001b[1;32mfrom\u001b[0m \u001b[1;33m.\u001b[0m \u001b[1;32mimport\u001b[0m \u001b[0mcompat\u001b[0m\u001b[1;33m\u001b[0m\u001b[0m\n",
      "\u001b[0;32mC:\\Users\\tsubo\\Anaconda3\\lib\\site-packages\\numpy\\core\\__init__.py\u001b[0m in \u001b[0;36m<module>\u001b[0;34m()\u001b[0m\n\u001b[1;32m     68\u001b[0m         \u001b[1;34m\"numpy in {}. One method of fixing this is to repeatedly uninstall \"\u001b[0m\u001b[1;33m\u001b[0m\u001b[0m\n\u001b[1;32m     69\u001b[0m         \"numpy until none is found, then reinstall this version.\")\n\u001b[0;32m---> 70\u001b[0;31m     \u001b[1;32mraise\u001b[0m \u001b[0mImportError\u001b[0m\u001b[1;33m(\u001b[0m\u001b[0mmsg\u001b[0m\u001b[1;33m.\u001b[0m\u001b[0mformat\u001b[0m\u001b[1;33m(\u001b[0m\u001b[0mpath\u001b[0m\u001b[1;33m)\u001b[0m\u001b[1;33m)\u001b[0m\u001b[1;33m\u001b[0m\u001b[0m\n\u001b[0m\u001b[1;32m     71\u001b[0m \u001b[1;33m\u001b[0m\u001b[0m\n\u001b[1;32m     72\u001b[0m \u001b[1;32mfrom\u001b[0m \u001b[1;33m.\u001b[0m \u001b[1;32mimport\u001b[0m \u001b[0mnumerictypes\u001b[0m \u001b[1;32mas\u001b[0m \u001b[0mnt\u001b[0m\u001b[1;33m\u001b[0m\u001b[0m\n",
      "\u001b[0;31mImportError\u001b[0m: Something is wrong with the numpy installation. While importing we detected an older version of numpy in ['C:\\\\Users\\\\tsubo\\\\Anaconda3\\\\lib\\\\site-packages\\\\numpy']. One method of fixing this is to repeatedly uninstall numpy until none is found, then reinstall this version."
     ]
    }
   ],
   "source": [
    "import tensorflow as tf"
   ]
  },
  {
   "cell_type": "code",
   "execution_count": 3,
   "metadata": {
    "collapsed": false
   },
   "outputs": [
    {
     "ename": "ImportError",
     "evalue": "Something is wrong with the numpy installation. While importing we detected an older version of numpy in ['C:\\\\Users\\\\tsubo\\\\Anaconda3\\\\lib\\\\site-packages\\\\numpy']. One method of fixing this is to repeatedly uninstall numpy until none is found, then reinstall this version.",
     "output_type": "error",
     "traceback": [
      "\u001b[0;31m---------------------------------------------------------------------------\u001b[0m",
      "\u001b[0;31mImportError\u001b[0m                               Traceback (most recent call last)",
      "\u001b[0;32m<ipython-input-3-4ee716103900>\u001b[0m in \u001b[0;36m<module>\u001b[0;34m()\u001b[0m\n\u001b[0;32m----> 1\u001b[0;31m \u001b[1;32mimport\u001b[0m \u001b[0mnumpy\u001b[0m \u001b[1;32mas\u001b[0m \u001b[0mnp\u001b[0m\u001b[1;33m\u001b[0m\u001b[0m\n\u001b[0m",
      "\u001b[0;32mC:\\Users\\tsubo\\Anaconda3\\lib\\site-packages\\numpy\\__init__.py\u001b[0m in \u001b[0;36m<module>\u001b[0;34m()\u001b[0m\n\u001b[1;32m    140\u001b[0m     \u001b[1;32mfrom\u001b[0m \u001b[1;33m.\u001b[0m \u001b[1;32mimport\u001b[0m \u001b[0m_distributor_init\u001b[0m\u001b[1;33m\u001b[0m\u001b[0m\n\u001b[1;32m    141\u001b[0m \u001b[1;33m\u001b[0m\u001b[0m\n\u001b[0;32m--> 142\u001b[0;31m     \u001b[1;32mfrom\u001b[0m \u001b[1;33m.\u001b[0m \u001b[1;32mimport\u001b[0m \u001b[0mcore\u001b[0m\u001b[1;33m\u001b[0m\u001b[0m\n\u001b[0m\u001b[1;32m    143\u001b[0m     \u001b[1;32mfrom\u001b[0m \u001b[1;33m.\u001b[0m\u001b[0mcore\u001b[0m \u001b[1;32mimport\u001b[0m \u001b[1;33m*\u001b[0m\u001b[1;33m\u001b[0m\u001b[0m\n\u001b[1;32m    144\u001b[0m     \u001b[1;32mfrom\u001b[0m \u001b[1;33m.\u001b[0m \u001b[1;32mimport\u001b[0m \u001b[0mcompat\u001b[0m\u001b[1;33m\u001b[0m\u001b[0m\n",
      "\u001b[0;32mC:\\Users\\tsubo\\Anaconda3\\lib\\site-packages\\numpy\\core\\__init__.py\u001b[0m in \u001b[0;36m<module>\u001b[0;34m()\u001b[0m\n\u001b[1;32m     68\u001b[0m         \u001b[1;34m\"numpy in {}. One method of fixing this is to repeatedly uninstall \"\u001b[0m\u001b[1;33m\u001b[0m\u001b[0m\n\u001b[1;32m     69\u001b[0m         \"numpy until none is found, then reinstall this version.\")\n\u001b[0;32m---> 70\u001b[0;31m     \u001b[1;32mraise\u001b[0m \u001b[0mImportError\u001b[0m\u001b[1;33m(\u001b[0m\u001b[0mmsg\u001b[0m\u001b[1;33m.\u001b[0m\u001b[0mformat\u001b[0m\u001b[1;33m(\u001b[0m\u001b[0mpath\u001b[0m\u001b[1;33m)\u001b[0m\u001b[1;33m)\u001b[0m\u001b[1;33m\u001b[0m\u001b[0m\n\u001b[0m\u001b[1;32m     71\u001b[0m \u001b[1;33m\u001b[0m\u001b[0m\n\u001b[1;32m     72\u001b[0m \u001b[1;32mfrom\u001b[0m \u001b[1;33m.\u001b[0m \u001b[1;32mimport\u001b[0m \u001b[0mnumerictypes\u001b[0m \u001b[1;32mas\u001b[0m \u001b[0mnt\u001b[0m\u001b[1;33m\u001b[0m\u001b[0m\n",
      "\u001b[0;31mImportError\u001b[0m: Something is wrong with the numpy installation. While importing we detected an older version of numpy in ['C:\\\\Users\\\\tsubo\\\\Anaconda3\\\\lib\\\\site-packages\\\\numpy']. One method of fixing this is to repeatedly uninstall numpy until none is found, then reinstall this version."
     ]
    }
   ],
   "source": [
    "import numpy as np"
   ]
  },
  {
   "cell_type": "code",
   "execution_count": null,
   "metadata": {
    "collapsed": false
   },
   "outputs": [],
   "source": [
    "#numpy再インストール\n",
    "\n",
    "!pip uninstall numpy"
   ]
  },
  {
   "cell_type": "code",
   "execution_count": null,
   "metadata": {
    "collapsed": true
   },
   "outputs": [],
   "source": []
  }
 ],
 "metadata": {
  "kernelspec": {
   "display_name": "Python 3",
   "language": "python",
   "name": "python3"
  },
  "language_info": {
   "codemirror_mode": {
    "name": "ipython",
    "version": 3
   },
   "file_extension": ".py",
   "mimetype": "text/x-python",
   "name": "python",
   "nbconvert_exporter": "python",
   "pygments_lexer": "ipython3",
   "version": "3.6.0"
  }
 },
 "nbformat": 4,
 "nbformat_minor": 2
}
