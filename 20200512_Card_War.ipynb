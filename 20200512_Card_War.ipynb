{
 "cells": [
  {
   "cell_type": "code",
   "execution_count": 1,
   "metadata": {
    "collapsed": false
   },
   "outputs": [],
   "source": [
    "#War_game\n",
    "#リストのインデクス操作と値が同じになるようにNoneを2つ入れている\n",
    "#Card\n",
    "\n",
    "class Card:\n",
    "    suits = [\"spades\", \"hearts\", \"diamonds\", \"clubs\"]\n",
    "    \n",
    "    values = [None, None,\n",
    "             \"2\", \"3\", \"4\", \"5\", \"6\", \"7\", \"8\", \"9\",\n",
    "             \"10\", \"Jack\", \"Queen\", \"King\", \"Ace\"] \n",
    "    \n",
    "    def __init__(self, v, s):\n",
    "        \"\"\"suitsも値も整数値です\"\"\"\n",
    "        self.value = v\n",
    "        self.suit = s\n",
    "        \n",
    "    def __lt__(self, c2):\n",
    "        if self.value < c2.value:\n",
    "            return True\n",
    "        \n",
    "        if self.value == c2.value:\n",
    "            if self.suit < c2.suit:\n",
    "                return True\n",
    "            else:\n",
    "                return False\n",
    "        return False\n",
    "    \n",
    "    def __gt__(self, c2):\n",
    "        if self.value > c2.value:\n",
    "            return True\n",
    "        if self.value == c2.value:\n",
    "            if self.suit > c2.suit:\n",
    "                return True\n",
    "            else:\n",
    "                return False\n",
    "        return False\n",
    "    \n",
    "    def __repr__(self):\n",
    "        v = self.values[self.value] + \" of \" \\\n",
    "            + self.suits[self.suit]\n",
    "        return v"
   ]
  },
  {
   "cell_type": "code",
   "execution_count": 2,
   "metadata": {
    "collapsed": false
   },
   "outputs": [
    {
     "name": "stdout",
     "output_type": "stream",
     "text": [
      "10 of diamonds\n",
      "Jack of clubs\n",
      "True\n"
     ]
    }
   ],
   "source": [
    "#test\n",
    "\n",
    "card1 = Card(10, 2)\n",
    "card2 = Card(11, 3)\n",
    "print(card1)\n",
    "print(card2)\n",
    "print(card1 < card2)"
   ]
  },
  {
   "cell_type": "code",
   "execution_count": 3,
   "metadata": {
    "collapsed": false
   },
   "outputs": [
    {
     "name": "stdout",
     "output_type": "stream",
     "text": [
      "10 of diamonds\n",
      "Jack of clubs\n",
      "False\n"
     ]
    }
   ],
   "source": [
    "#test\n",
    "\n",
    "card1 = Card(10, 2)\n",
    "card2 = Card(11, 3)\n",
    "print(card1)\n",
    "print(card2)\n",
    "print(card1 > card2)"
   ]
  },
  {
   "cell_type": "code",
   "execution_count": 4,
   "metadata": {
    "collapsed": false
   },
   "outputs": [
    {
     "name": "stdout",
     "output_type": "stream",
     "text": [
      "3 of diamonds\n"
     ]
    }
   ],
   "source": [
    "#__repr__\n",
    "\n",
    "card = Card(3, 2)\n",
    "print(card)"
   ]
  },
  {
   "cell_type": "code",
   "execution_count": 5,
   "metadata": {
    "collapsed": true
   },
   "outputs": [],
   "source": [
    "#Deck\n",
    "\n",
    "from random import shuffle\n",
    "\n",
    "class Deck:\n",
    "    def __init__(self):\n",
    "        self.cards = []\n",
    "        for i in range(2, 15):\n",
    "            for j in range(4):\n",
    "                self.cards.append(Card(i, j))\n",
    "        shuffle(self.cards)\n",
    "        \n",
    "    def rm_card(self):\n",
    "        if len(self.cards) == 0:\n",
    "            return\n",
    "        return self.cards.pop()"
   ]
  },
  {
   "cell_type": "code",
   "execution_count": 6,
   "metadata": {
    "collapsed": false
   },
   "outputs": [
    {
     "name": "stdout",
     "output_type": "stream",
     "text": [
      "<__main__.Deck object at 0x00000299E6409F98>\n",
      "[4 of clubs, Ace of hearts, 6 of clubs, 3 of spades, 6 of spades, 4 of diamonds, 3 of hearts, 7 of diamonds, 9 of diamonds, King of clubs, Ace of spades, 3 of diamonds, 9 of clubs, King of hearts, 6 of hearts, 2 of diamonds, 5 of diamonds, 9 of hearts, 7 of hearts, 2 of spades, 10 of hearts, 5 of hearts, 2 of hearts, Queen of diamonds, 9 of spades, Queen of hearts, Jack of spades, 10 of diamonds, 5 of clubs, 10 of clubs, Jack of clubs, 6 of diamonds, 8 of hearts, King of spades, Queen of spades, 3 of clubs, Jack of hearts, 10 of spades, 4 of hearts, 8 of clubs, 8 of spades, 5 of spades, 2 of clubs, Ace of clubs, 8 of diamonds, 7 of clubs, 4 of spades, 7 of spades, Queen of clubs, King of diamonds, Jack of diamonds, Ace of diamonds]\n",
      "4 of clubs\n",
      "Ace of hearts\n",
      "6 of clubs\n",
      "3 of spades\n",
      "6 of spades\n",
      "4 of diamonds\n",
      "3 of hearts\n",
      "7 of diamonds\n",
      "9 of diamonds\n",
      "King of clubs\n",
      "Ace of spades\n",
      "3 of diamonds\n",
      "9 of clubs\n",
      "King of hearts\n",
      "6 of hearts\n",
      "2 of diamonds\n",
      "5 of diamonds\n",
      "9 of hearts\n",
      "7 of hearts\n",
      "2 of spades\n",
      "10 of hearts\n",
      "5 of hearts\n",
      "2 of hearts\n",
      "Queen of diamonds\n",
      "9 of spades\n",
      "Queen of hearts\n",
      "Jack of spades\n",
      "10 of diamonds\n",
      "5 of clubs\n",
      "10 of clubs\n",
      "Jack of clubs\n",
      "6 of diamonds\n",
      "8 of hearts\n",
      "King of spades\n",
      "Queen of spades\n",
      "3 of clubs\n",
      "Jack of hearts\n",
      "10 of spades\n",
      "4 of hearts\n",
      "8 of clubs\n",
      "8 of spades\n",
      "5 of spades\n",
      "2 of clubs\n",
      "Ace of clubs\n",
      "8 of diamonds\n",
      "7 of clubs\n",
      "4 of spades\n",
      "7 of spades\n",
      "Queen of clubs\n",
      "King of diamonds\n",
      "Jack of diamonds\n",
      "Ace of diamonds\n"
     ]
    }
   ],
   "source": [
    "#deck test\n",
    "\n",
    "deck = Deck()\n",
    "print(deck)\n",
    "print(deck.cards)\n",
    "for card in deck.cards:\n",
    "    print(card)\n",
    "#deck.cards.pop()"
   ]
  },
  {
   "cell_type": "code",
   "execution_count": 7,
   "metadata": {
    "collapsed": false
   },
   "outputs": [],
   "source": [
    "#Player\n",
    "\n",
    "class Player:\n",
    "    def __init__(self, name):\n",
    "        self.wins = 0\n",
    "        self.card = None\n",
    "        self.name = name"
   ]
  },
  {
   "cell_type": "code",
   "execution_count": 8,
   "metadata": {
    "collapsed": false
   },
   "outputs": [
    {
     "name": "stdout",
     "output_type": "stream",
     "text": [
      "Player1's name is Takeshi\n",
      "Player2's name is HInako\n",
      "戦争を始めます！\n",
      "qで終了、それ以外のキーでPlay:\n"
     ]
    },
    {
     "ename": "AttributeError",
     "evalue": "'Game' object has no attribute 'draw'",
     "output_type": "error",
     "traceback": [
      "\u001b[0;31m---------------------------------------------------------------------------\u001b[0m",
      "\u001b[0;31mAttributeError\u001b[0m                            Traceback (most recent call last)",
      "\u001b[0;32m<ipython-input-8-3cdef471e1d2>\u001b[0m in \u001b[0;36m<module>\u001b[0;34m()\u001b[0m\n\u001b[1;32m     50\u001b[0m \u001b[1;33m\u001b[0m\u001b[0m\n\u001b[1;32m     51\u001b[0m \u001b[0mgame\u001b[0m \u001b[1;33m=\u001b[0m \u001b[0mGame\u001b[0m\u001b[1;33m(\u001b[0m\u001b[1;33m)\u001b[0m\u001b[1;33m\u001b[0m\u001b[0m\n\u001b[0;32m---> 52\u001b[0;31m \u001b[0mgame\u001b[0m\u001b[1;33m.\u001b[0m\u001b[0mplay_game\u001b[0m\u001b[1;33m(\u001b[0m\u001b[1;33m)\u001b[0m\u001b[1;33m\u001b[0m\u001b[0m\n\u001b[0m",
      "\u001b[0;32m<ipython-input-8-3cdef471e1d2>\u001b[0m in \u001b[0;36mplay_game\u001b[0;34m(self)\u001b[0m\n\u001b[1;32m     31\u001b[0m             \u001b[0mp1n\u001b[0m \u001b[1;33m=\u001b[0m \u001b[0mself\u001b[0m\u001b[1;33m.\u001b[0m\u001b[0mp1\u001b[0m\u001b[1;33m.\u001b[0m\u001b[0mname\u001b[0m\u001b[1;33m\u001b[0m\u001b[0m\n\u001b[1;32m     32\u001b[0m             \u001b[0mp2n\u001b[0m \u001b[1;33m=\u001b[0m \u001b[0mself\u001b[0m\u001b[1;33m.\u001b[0m\u001b[0mp2\u001b[0m\u001b[1;33m.\u001b[0m\u001b[0mname\u001b[0m\u001b[1;33m\u001b[0m\u001b[0m\n\u001b[0;32m---> 33\u001b[0;31m             \u001b[0mself\u001b[0m\u001b[1;33m.\u001b[0m\u001b[0mdraw\u001b[0m\u001b[1;33m(\u001b[0m\u001b[0mp1n\u001b[0m\u001b[1;33m,\u001b[0m \u001b[0mp1c\u001b[0m\u001b[1;33m,\u001b[0m \u001b[0mp2n\u001b[0m\u001b[1;33m,\u001b[0m \u001b[0mp2c\u001b[0m\u001b[1;33m)\u001b[0m\u001b[1;33m\u001b[0m\u001b[0m\n\u001b[0m\u001b[1;32m     34\u001b[0m             \u001b[1;32mif\u001b[0m \u001b[0mp1c\u001b[0m \u001b[1;33m>\u001b[0m \u001b[0mp2c\u001b[0m\u001b[1;33m:\u001b[0m\u001b[1;33m\u001b[0m\u001b[0m\n\u001b[1;32m     35\u001b[0m                 \u001b[0mself\u001b[0m\u001b[1;33m.\u001b[0m\u001b[0mp1\u001b[0m\u001b[1;33m.\u001b[0m\u001b[0mwins\u001b[0m \u001b[1;33m+=\u001b[0m \u001b[1;36m1\u001b[0m\u001b[1;33m\u001b[0m\u001b[0m\n",
      "\u001b[0;31mAttributeError\u001b[0m: 'Game' object has no attribute 'draw'"
     ]
    }
   ],
   "source": [
    "#Game\n",
    "\n",
    "class Game:\n",
    "    def __init__(self):\n",
    "        name1 = input(\"Player1's name is \")\n",
    "        name2 = input(\"Player2's name is \")\n",
    "        self.deck = Deck()\n",
    "        self.p1 = Player(name1)\n",
    "        self.p2 = Player(name2)\n",
    "        \n",
    "    def wins(self, winner):\n",
    "        w = \"このラウンドは{}が勝ちました\"\n",
    "        w = w.format(winner)\n",
    "        print(w)\n",
    "        \n",
    "    def drew(self, p1n, p1c, p2n, p2c):\n",
    "        d = \"{}は{}、{}は{}を引きました\"\n",
    "        d = d.format(p1n, p1c, p2n, p2c)\n",
    "        print(d)\n",
    "        \n",
    "    def play_game(self):\n",
    "        cards = self.deck.cards\n",
    "        print(\"戦争を始めます！\")\n",
    "        while len(cards) >= 2:\n",
    "            m = \"qで終了、それ以外のキーでPlay:\"\n",
    "            response = input(m)\n",
    "            if response == 'q':\n",
    "                break\n",
    "            p1c = self.deck.rm_card()\n",
    "            p2c = self.deck.rm_card()\n",
    "            p1n = self.p1.name\n",
    "            p2n = self.p2.name\n",
    "            self.draw(p1n, p1c, p2n, p2c)\n",
    "            if p1c > p2c:\n",
    "                self.p1.wins += 1\n",
    "                self.wins(self.p1.name)\n",
    "            else:\n",
    "                self.p2.wins += 1\n",
    "                self.wins(self.p2.name)\n",
    "                \n",
    "        win = self.winner(self.p1, self.p2)\n",
    "        print(\"ゲーム終了、{}の勝利です！\".format(win))\n",
    "        \n",
    "    def winner(self, p1, p2):\n",
    "        if p1.wins > p2.wins:\n",
    "            return p1.name\n",
    "        if p1.wins < p2.wins:\n",
    "            return p2.name\n",
    "        return \"引き分け\"\n",
    "\n",
    "game = Game()\n",
    "game.play_game()"
   ]
  },
  {
   "cell_type": "code",
   "execution_count": null,
   "metadata": {
    "collapsed": true
   },
   "outputs": [],
   "source": []
  },
  {
   "cell_type": "code",
   "execution_count": null,
   "metadata": {
    "collapsed": true
   },
   "outputs": [],
   "source": []
  },
  {
   "cell_type": "code",
   "execution_count": null,
   "metadata": {
    "collapsed": true
   },
   "outputs": [],
   "source": []
  },
  {
   "cell_type": "code",
   "execution_count": null,
   "metadata": {
    "collapsed": true
   },
   "outputs": [],
   "source": []
  }
 ],
 "metadata": {
  "kernelspec": {
   "display_name": "Python 3",
   "language": "python",
   "name": "python3"
  },
  "language_info": {
   "codemirror_mode": {
    "name": "ipython",
    "version": 3
   },
   "file_extension": ".py",
   "mimetype": "text/x-python",
   "name": "python",
   "nbconvert_exporter": "python",
   "pygments_lexer": "ipython3",
   "version": "3.6.0"
  }
 },
 "nbformat": 4,
 "nbformat_minor": 2
}
