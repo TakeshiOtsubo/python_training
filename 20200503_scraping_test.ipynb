{
 "cells": [
  {
   "cell_type": "code",
   "execution_count": 1,
   "metadata": {
    "collapsed": false
   },
   "outputs": [
    {
     "name": "stdout",
     "output_type": "stream",
     "text": [
      "保存しました\n"
     ]
    }
   ],
   "source": [
    "import urllib.request\n",
    "\n",
    "url = \"http://uta.pw/shodou/img/28/214.png\"\n",
    "savename = \"test2.png\"\n",
    "\n",
    "urllib.request.urlretrieve(url, savename)\n",
    "print(\"保存しました\")"
   ]
  },
  {
   "cell_type": "code",
   "execution_count": 3,
   "metadata": {
    "collapsed": false
   },
   "outputs": [
    {
     "ename": "SyntaxError",
     "evalue": "invalid syntax (<ipython-input-3-11274b6eda7e>, line 3)",
     "output_type": "error",
     "traceback": [
      "\u001b[0;36m  File \u001b[0;32m\"<ipython-input-3-11274b6eda7e>\"\u001b[0;36m, line \u001b[0;32m3\u001b[0m\n\u001b[0;31m    Save this file as index.html-->\u001b[0m\n\u001b[0m            ^\u001b[0m\n\u001b[0;31mSyntaxError\u001b[0m\u001b[0;31m:\u001b[0m invalid syntax\n"
     ]
    }
   ],
   "source": [
    "#html例\n",
    "\n",
    "Save this file as index.html-->\n",
    "<html lang=\"en\">\n",
    "<head>\n",
    "   <meta charset=\"UTF-8\">\n",
    "   <title>My Website</title>\n",
    "</head>\n",
    "<body>\n",
    "    Hello, World!\n",
    "    <a href=\"https://news.ycombinator.com/\">here</a>\n",
    "</body>\n",
    "</html>"
   ]
  },
  {
   "cell_type": "code",
   "execution_count": 5,
   "metadata": {
    "collapsed": false
   },
   "outputs": [
    {
     "ename": "SyntaxError",
     "evalue": "invalid syntax (<ipython-input-5-acd9b2f05fbd>, line 3)",
     "output_type": "error",
     "traceback": [
      "\u001b[0;36m  File \u001b[0;32m\"<ipython-input-5-acd9b2f05fbd>\"\u001b[0;36m, line \u001b[0;32m3\u001b[0m\n\u001b[0;31m    pip3 install beautifulsoup4==4.6.0\u001b[0m\n\u001b[0m               ^\u001b[0m\n\u001b[0;31mSyntaxError\u001b[0m\u001b[0;31m:\u001b[0m invalid syntax\n"
     ]
    }
   ],
   "source": [
    "#BeautifulSoup install(コマンドプロンプト内で以下のコマンドを実行)\n",
    "\n",
    "#>pip install beautifulsoup4==4.6.0"
   ]
  },
  {
   "cell_type": "code",
   "execution_count": 1,
   "metadata": {
    "collapsed": true
   },
   "outputs": [],
   "source": [
    "#\n",
    "\n",
    "import urllib.request\n",
    "from bs4 import BeautifulSoup\n",
    "\n",
    "class Scraper:\n",
    "    def __init__(self, site):\n",
    "        self.site = site\n",
    "        \n",
    "    def scrape(self):\n",
    "        pass"
   ]
  },
  {
   "cell_type": "code",
   "execution_count": 4,
   "metadata": {
    "collapsed": false
   },
   "outputs": [
    {
     "name": "stdout",
     "output_type": "stream",
     "text": [
      "保存しました\n"
     ]
    }
   ],
   "source": [
    "#urllib test\n",
    "\n",
    "import urllib.request\n",
    "\n",
    "url = \"https://www.google.com/imgres?imgurl=https%3A%2F%2Fi.ytimg.com%2Fvi%2FMQfV81zMPBY%2Fmaxresdefault.jpg&imgrefurl=https%3A%2F%2Fwww.youtube.com%2Fwatch%3Fv%3DMQfV81zMPBY&tbnid=SK_J1vsnfB0HQM&vet=12ahUKEwi33Z-QwpfpAhUIyZQKHY5sAnoQMygBegUIARC6Ag..i&docid=D5jIlPIgB8oz5M&w=1280&h=720&q=%E3%83%92%E3%82%AB%E3%82%AD%E3%83%B3&ved=2ahUKEwi33Z-QwpfpAhUIyZQKHY5sAnoQMygBegUIARC6Ag\"\n",
    "savename = \"test_hikakin.html\"\n",
    "\n",
    "urllib.request.urlretrieve(url, savename)\n",
    "print(\"保存しました\")"
   ]
  },
  {
   "cell_type": "code",
   "execution_count": 1,
   "metadata": {
    "collapsed": false
   },
   "outputs": [
    {
     "name": "stdout",
     "output_type": "stream",
     "text": [
      "保存しました\n"
     ]
    }
   ],
   "source": [
    "#urllib test2\n",
    "\n",
    "import urllib.request\n",
    "\n",
    "url = \"https://www.pokemon.co.jp/corporate/common/images/pikachu/img_03.png\"\n",
    "savename = \"test_pikachu.png\"\n",
    "\n",
    "urllib.request.urlretrieve(url, savename)\n",
    "print(\"保存しました\")"
   ]
  }
 ],
 "metadata": {
  "kernelspec": {
   "display_name": "Python 3",
   "language": "python",
   "name": "python3"
  },
  "language_info": {
   "codemirror_mode": {
    "name": "ipython",
    "version": 3
   },
   "file_extension": ".py",
   "mimetype": "text/x-python",
   "name": "python",
   "nbconvert_exporter": "python",
   "pygments_lexer": "ipython3",
   "version": "3.6.0"
  }
 },
 "nbformat": 4,
 "nbformat_minor": 2
}
