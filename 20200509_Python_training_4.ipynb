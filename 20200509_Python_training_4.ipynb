{
 "cells": [
  {
   "cell_type": "code",
   "execution_count": 2,
   "metadata": {
    "collapsed": false
   },
   "outputs": [
    {
     "name": "stdout",
     "output_type": "stream",
     "text": [
      "pかjのどちらかを入力してください。qで終わります：j\n",
      "曲名を入力してください：j\n",
      "pかjのどちらかを入力してください。qで終わります：ks\n",
      "不正な値です。\n",
      "pかjのどちらかを入力してください。qで終わります：i\n",
      "不正な値です。\n",
      "pかjのどちらかを入力してください。qで終わります：p\n",
      "曲名を入力してください：k\n",
      "pかjのどちらかを入力してください。qで終わります：j\n",
      "曲名を入力してください：k\n",
      "pかjのどちらかを入力してください。qで終わります：p\n",
      "曲名を入力してください：f\n",
      "pかjのどちらかを入力してください。qで終わります：q\n",
      "pop songs:  ['k', 'f']\n",
      "jpop songs:  ['j', 'k']\n"
     ]
    }
   ],
   "source": [
    "#第12章\n",
    "\n",
    "pop = []\n",
    "jpop = []\n",
    "\n",
    "def collect_songs():\n",
    "    song = \"曲名を入力してください：\"\n",
    "    ask = \"pかjのどちらかを入力してください。qで終わります：\"\n",
    "    \n",
    "    while True:\n",
    "        genre = input(ask)\n",
    "        if genre == \"q\":\n",
    "            break\n",
    "            \n",
    "        if genre == \"p\":\n",
    "            p = input(song)\n",
    "            pop.append(p)\n",
    "            \n",
    "        elif genre == \"j\":\n",
    "            j = input(song)\n",
    "            jpop.append(j)\n",
    "            \n",
    "        else:\n",
    "            print(\"不正な値です。\")\n",
    "            \n",
    "    print(\"pop songs: \",pop)\n",
    "    print(\"jpop songs: \", jpop)\n",
    "\n",
    "collect_songs()"
   ]
  },
  {
   "cell_type": "code",
   "execution_count": 20,
   "metadata": {
    "collapsed": false
   },
   "outputs": [],
   "source": [
    "#副作用を起こす分かりやすい例\n",
    "\n",
    "a = 0\n",
    "\n",
    "def increment():\n",
    "    global a\n",
    "    a += 1"
   ]
  },
  {
   "cell_type": "code",
   "execution_count": 21,
   "metadata": {
    "collapsed": true
   },
   "outputs": [],
   "source": [
    "#副作用のない関数の例\n",
    "\n",
    "def increment(a):\n",
    "    return a + 1"
   ]
  },
  {
   "cell_type": "code",
   "execution_count": 23,
   "metadata": {
    "collapsed": false
   },
   "outputs": [
    {
     "data": {
      "text/plain": [
       "10"
      ]
     },
     "execution_count": 23,
     "metadata": {},
     "output_type": "execute_result"
    }
   ],
   "source": [
    "increment(9)"
   ]
  },
  {
   "cell_type": "code",
   "execution_count": null,
   "metadata": {
    "collapsed": true
   },
   "outputs": [],
   "source": [
    "#オブジェクト指向メモ\n",
    "#Pythonにおいて全てのオブジェクトは何かしらのクラスに属している\n",
    "#123はintクラス、\"abc\"はstrクラス\n",
    "#クラスを定義するときは以下の通り\n",
    "#class[クラス名]:\n",
    "    #[スイート]\n",
    "#クラス名の最初の文字は大文字、複数の単語の時は１文字目を大文字でつなげる「LikeThis」のように。アンダースコアは使わない。\n",
    "#スイートの部分には単純文orメソッドを書く。（\"hello\".upper()のような感じ）\n",
    "#メソッドは関数に似ているが特徴として、１）クラスのスイート部分にのみ定義される、２）引数を少なくとも一つ定義される（一つ目の引数はself）もの"
   ]
  },
  {
   "cell_type": "code",
   "execution_count": 24,
   "metadata": {
    "collapsed": true
   },
   "outputs": [],
   "source": [
    "#クラス、メソッドの例\n",
    "\n",
    "class Orange:\n",
    "    def __init__(self):\n",
    "        print(\"Created!\")"
   ]
  },
  {
   "cell_type": "code",
   "execution_count": 27,
   "metadata": {
    "collapsed": true
   },
   "outputs": [],
   "source": [
    "#self変数はインスタンス変数の定義に使う\n",
    "#インスタンス変数とは、あるクラス内の各オブジェクトに属する変数のこと\n",
    "#インスタンス変数の定義方法は以下\n",
    "#self.[変数名] = [値]\n",
    "#インスタンス変数は__init__という特別なメソッドの中で定義され（init=initialize）、オブジェクトを作るときにPythonから呼び出される。\n",
    "#以下の例ではweight、colorというのがインスタント変数\n",
    "\n",
    "class Orange:\n",
    "    def __init__(self, w, c):\n",
    "        self.weight = w\n",
    "        self.color = c\n",
    "        print(\"Created!\")\n",
    "    \n",
    "#__二重アンダースコアで囲まれたメソッドは特殊メソッドと呼ぶ\n",
    "#Orangeオブジェクトは関数を呼び出すのと同じ構文で作る\n",
    "#[クラス名]([引数])　#第一引数selfの部分は渡す必要がない"
   ]
  },
  {
   "cell_type": "code",
   "execution_count": 28,
   "metadata": {
    "collapsed": false
   },
   "outputs": [
    {
     "name": "stdout",
     "output_type": "stream",
     "text": [
      "Created!\n",
      "<__main__.Orange object at 0x00000223AF5EF390>\n"
     ]
    }
   ],
   "source": [
    "class Orange:\n",
    "    def __init__(self, w, c):\n",
    "        self.weight = w\n",
    "        self.color = c\n",
    "        print(\"Created!\")\n",
    "\n",
    "orl = Orange(10, \"dark orange\")\n",
    "print(orl)"
   ]
  },
  {
   "cell_type": "code",
   "execution_count": 29,
   "metadata": {
    "collapsed": false
   },
   "outputs": [
    {
     "name": "stdout",
     "output_type": "stream",
     "text": [
      "10\n",
      "dark orange\n"
     ]
    }
   ],
   "source": [
    "#インスタンス変数の値を取得\n",
    "\n",
    "print(orl.weight)\n",
    "print(orl.color)"
   ]
  },
  {
   "cell_type": "code",
   "execution_count": 31,
   "metadata": {
    "collapsed": false
   },
   "outputs": [
    {
     "name": "stdout",
     "output_type": "stream",
     "text": [
      "Created!\n",
      "100\n",
      "light orange\n"
     ]
    }
   ],
   "source": [
    "#インスタンス変数の値の変更\n",
    "\n",
    "class Orange:\n",
    "    def __init__(self, w, c):\n",
    "        self.weight = w\n",
    "        self.color = c\n",
    "        print(\"Created!\")\n",
    "\n",
    "orl = Orange(10, \"dark orange\")\n",
    "orl.weight = 100\n",
    "orl.color = \"light orange\"\n",
    "\n",
    "print(orl.weight)\n",
    "print(orl.color)"
   ]
  },
  {
   "cell_type": "code",
   "execution_count": 32,
   "metadata": {
    "collapsed": false
   },
   "outputs": [
    {
     "name": "stdout",
     "output_type": "stream",
     "text": [
      "Created!\n",
      "Created!\n",
      "Created!\n"
     ]
    }
   ],
   "source": [
    "#複数のOrangeオブジェクトの作成\n",
    "\n",
    "class Orange:\n",
    "    def __init__(self, w, c):\n",
    "        self.weight = w\n",
    "        self.color = c\n",
    "        print(\"Created!\")\n",
    "\n",
    "or1 = Orange(4, \"light orange\")\n",
    "or2 = Orange(8, \"dark orange\")\n",
    "or3 = Orange(14, \"yellow\")"
   ]
  },
  {
   "cell_type": "code",
   "execution_count": 33,
   "metadata": {
    "collapsed": false
   },
   "outputs": [
    {
     "name": "stdout",
     "output_type": "stream",
     "text": [
      "Created!\n",
      "0\n",
      "370\n"
     ]
    }
   ],
   "source": [
    "#Orangeオブジェクトに腐る性質を追加した例\n",
    "\n",
    "class Orange:\n",
    "    def __init__(self, w, c):\n",
    "        self.weight = w\n",
    "        self.color = c\n",
    "        self.mold = 0\n",
    "        print(\"Created!\")\n",
    "        \n",
    "    def rot(self, days, temp):\n",
    "        self.mold = days * temp\n",
    "        \n",
    "orange = Orange(200, \"orange\")\n",
    "print(orange.mold)\n",
    "orange.rot(10, 37)\n",
    "print(orange.mold)"
   ]
  },
  {
   "cell_type": "code",
   "execution_count": 34,
   "metadata": {
    "collapsed": false
   },
   "outputs": [
    {
     "name": "stdout",
     "output_type": "stream",
     "text": [
      "200\n",
      "800\n"
     ]
    }
   ],
   "source": [
    "#長方形を表すクラスでarea計算、長方形のサイズを変更\n",
    "\n",
    "class Rectangle:\n",
    "    def __init__(self, w, l):\n",
    "        self.width = w\n",
    "        self.len = l\n",
    "        \n",
    "    def area(self):\n",
    "        return self.width * self.len\n",
    "    \n",
    "    def change_size(self, w, l):\n",
    "        self.width = w\n",
    "        self.len = l\n",
    "rectangle = Rectangle(10, 20)\n",
    "print(rectangle.area())\n",
    "rectangle.change_size(20, 40)\n",
    "print(rectangle.area())"
   ]
  },
  {
   "cell_type": "code",
   "execution_count": 36,
   "metadata": {
    "collapsed": false
   },
   "outputs": [
    {
     "data": {
      "text/plain": [
       "882"
      ]
     },
     "execution_count": 36,
     "metadata": {},
     "output_type": "execute_result"
    }
   ],
   "source": [
    "rectangle.change_size(21, 42)\n",
    "rectangle.area()"
   ]
  },
  {
   "cell_type": "code",
   "execution_count": null,
   "metadata": {
    "collapsed": true
   },
   "outputs": [],
   "source": [
    "#オブジェクト指向プログラムの利点：コードの再利用が促進、保守しやすコードになる\n",
    "#オブジェクト指向プログラムの欠点：プログラムを書く前の計画や設計などにより多くの労力が必要"
   ]
  },
  {
   "cell_type": "code",
   "execution_count": 42,
   "metadata": {
    "collapsed": false
   },
   "outputs": [
    {
     "name": "stdout",
     "output_type": "stream",
     "text": [
      "Created!\n",
      "200\n",
      "red\n",
      "13\n",
      "low\n"
     ]
    }
   ],
   "source": [
    "#第12章チャレンジ\n",
    "#1.\n",
    "\n",
    "class Apple:\n",
    "    def __init__(self, w, c, s, a):\n",
    "        self.weight = w\n",
    "        self.color = c\n",
    "        self.sugar_content = s\n",
    "        self.acidity = a \n",
    "        print(\"Created!\")\n",
    "        \n",
    "Ap1 = Apple(200, \"red\", 13, \"low\")\n",
    "print(Ap1.weight)\n",
    "print(Ap1.color)\n",
    "print(Ap1.sugar_content)\n",
    "print(Ap1.acidity)"
   ]
  },
  {
   "cell_type": "code",
   "execution_count": 46,
   "metadata": {
    "collapsed": false
   },
   "outputs": [
    {
     "name": "stdout",
     "output_type": "stream",
     "text": [
      "314.1592653589793\n"
     ]
    }
   ],
   "source": [
    "#2\n",
    "\n",
    "import math\n",
    "\n",
    "class Circle:\n",
    "    def __init__(self, r):\n",
    "        self.radius = r\n",
    "        \n",
    "    def area(self):\n",
    "        return self.radius * self.radius * math.pi\n",
    "    \n",
    "Cir1 = Circle(10)\n",
    "print(Cir1.area())"
   ]
  },
  {
   "cell_type": "code",
   "execution_count": 47,
   "metadata": {
    "collapsed": false
   },
   "outputs": [
    {
     "name": "stdout",
     "output_type": "stream",
     "text": [
      "75.0\n"
     ]
    }
   ],
   "source": [
    "#3\n",
    "\n",
    "class Triangle:\n",
    "    def __init__(self, b, h):\n",
    "        self.bottom = b\n",
    "        self.height = h\n",
    "        \n",
    "    def area(self):\n",
    "        return self.bottom * self.height / 2\n",
    "\n",
    "Tr1 = Triangle(10, 15)\n",
    "print(Tr1.area())"
   ]
  },
  {
   "cell_type": "code",
   "execution_count": 48,
   "metadata": {
    "collapsed": false
   },
   "outputs": [
    {
     "name": "stdout",
     "output_type": "stream",
     "text": [
      "60\n"
     ]
    }
   ],
   "source": [
    "#4\n",
    "\n",
    "class Hexagon:\n",
    "    def __init__(self, o):\n",
    "        self.one_side = o\n",
    "    \n",
    "    def calculate_perimeter(self):\n",
    "        return self.one_side * 6\n",
    "\n",
    "Hex1 = Hexagon(10)\n",
    "print(Hex1.calculate_perimeter())"
   ]
  },
  {
   "cell_type": "code",
   "execution_count": null,
   "metadata": {
    "collapsed": true
   },
   "outputs": [],
   "source": [
    "#第13章\n",
    "#オブジェクト指向プログラミングの４大要素、カプセル化、抽象化、ポリもルフィズム、継承\n",
    "#カプセル化の一つ目のコンセプト：オブジェクトにおいて複数の変数（状態保持）とメソッド（状態変更、状態を使用して計算）をまとめること\n",
    "\n",
    "class Rectangle:\n",
    "    def __init__(self, w, l):\n",
    "        self.width = w\n",
    "        self.len = l\n",
    "        \n",
    "    def area(self):\n",
    "        return self.width * self.len"
   ]
  },
  {
   "cell_type": "code",
   "execution_count": 50,
   "metadata": {
    "collapsed": false
   },
   "outputs": [
    {
     "name": "stdout",
     "output_type": "stream",
     "text": [
      "[100, 2, 3, 4, 5]\n",
      "[200, 2, 3, 4, 5]\n"
     ]
    }
   ],
   "source": [
    "#カプセル化の2つ目のコンセプト：データをクラス内に隠蔽して外から見えないようにすること\n",
    "#Dataのインスタンス変数（整数リスト）を変更する方法\n",
    "\n",
    "class Data:\n",
    "    def __init__(self):\n",
    "        self.nums = [1, 2, 3, 4, 5]\n",
    "        \n",
    "    def change_data(self, index, n):\n",
    "        self.nums[index] = n\n",
    "\n",
    "#メソッドを使う方法\n",
    "data_one = Data()\n",
    "data_one.nums[0] = 100\n",
    "print(data_one.nums)\n",
    "\n",
    "#インスタンス変数をnumsを直接変更する方法\n",
    "data_two = Data()\n",
    "data_two.change_data(0, 200)\n",
    "print(data_two.nums)"
   ]
  },
  {
   "cell_type": "code",
   "execution_count": 52,
   "metadata": {
    "collapsed": false
   },
   "outputs": [
    {
     "name": "stdout",
     "output_type": "stream",
     "text": [
      "<class '__main__.PublicPrivateExample'>\n"
     ]
    }
   ],
   "source": [
    "#Pythonの変数は全てパブリック変数（clientから直接操作できる）\n",
    "#clientから直接操作してほしくない変数やメソッドには名前の前にアンダースコアを一つつける\n",
    "\n",
    "class PublicPrivateExample:\n",
    "    def __init__(self):\n",
    "        self.public = \"safe\"\n",
    "        self._unsafe = \"unsafe\"\n",
    "        \n",
    "    def public_method(self):\n",
    "        #clientが使ってもいい\n",
    "        pass #pass文は、文が必須な構文で何もしない場合に使う\n",
    "    \n",
    "    def _unsafe_method(self):\n",
    "        #clientは使うべきじゃない\n",
    "        pass\n",
    "    \n",
    "print(PublicPrivateExample)"
   ]
  },
  {
   "cell_type": "code",
   "execution_count": 57,
   "metadata": {
    "collapsed": false
   },
   "outputs": [
    {
     "name": "stdout",
     "output_type": "stream",
     "text": [
      "Hello, WOrld!\n",
      "200\n",
      "200.1\n"
     ]
    }
   ],
   "source": [
    "#ポリモルフィズムの一例:一つのインターフェースで複数のデータ型に対して機能する関数やメソッド\n",
    "\n",
    "print(\"Hello, WOrld!\")\n",
    "print(200)\n",
    "print(200.1)"
   ]
  },
  {
   "cell_type": "code",
   "execution_count": 1,
   "metadata": {
    "collapsed": false
   },
   "outputs": [
    {
     "name": "stdout",
     "output_type": "stream",
     "text": [
      "20 by 25\n"
     ]
    }
   ],
   "source": [
    "#継承\n",
    "#親クラス定義\n",
    "\n",
    "class Shape:\n",
    "    def __init__(self, w, l):\n",
    "        self.width = w\n",
    "        self.len = l\n",
    "        \n",
    "    def print_size(self):\n",
    "        print(\"{} by {}\".format(self.width, self.len))\n",
    "        \n",
    "my_shape = Shape(20, 25)\n",
    "my_shape.print_size()"
   ]
  },
  {
   "cell_type": "code",
   "execution_count": 2,
   "metadata": {
    "collapsed": false
   },
   "outputs": [
    {
     "name": "stdout",
     "output_type": "stream",
     "text": [
      "20 by 20\n"
     ]
    }
   ],
   "source": [
    "#子クラス定義\n",
    "#Squareクラスの定義ではパラーメーターにShapeクラス（親クラス）を指定する。\n",
    "#親クラス同様幅と長さを定義できるしメソッドprint_sizeを子クラスSquareでも使える\n",
    "\n",
    "class Square(Shape):\n",
    "    pass\n",
    "\n",
    "a_square = Square(20, 20)\n",
    "a_square.print_size()"
   ]
  },
  {
   "cell_type": "code",
   "execution_count": 3,
   "metadata": {
    "collapsed": false
   },
   "outputs": [
    {
     "name": "stdout",
     "output_type": "stream",
     "text": [
      "400\n"
     ]
    }
   ],
   "source": [
    "#子クラス内で別のメソッド定義(親クラスには影響しない)\n",
    "\n",
    "class Square(Shape):\n",
    "    def area(self):\n",
    "        return self.width * self.len\n",
    "\n",
    "a_square = Square(20, 20)\n",
    "print(a_square.area())"
   ]
  },
  {
   "cell_type": "code",
   "execution_count": 5,
   "metadata": {
    "collapsed": false
   },
   "outputs": [
    {
     "name": "stdout",
     "output_type": "stream",
     "text": [
      "I am 20 by 20\n",
      "30 by 30\n"
     ]
    }
   ],
   "source": [
    "#メソッドオーバーライド（親クラスのメソッドを別の実装で置き換えること）\n",
    "#親クラス内のメソッド自体は書き換えられない\n",
    "\n",
    "class Shape:\n",
    "    def __init__(self, w, l):\n",
    "        self.width = w\n",
    "        self.len = l\n",
    "        \n",
    "    def print_size(self):\n",
    "        print(\"{} by {}\".format(self.width, self.len))\n",
    "\n",
    "class Square(Shape):\n",
    "    def area(self):\n",
    "        return self.width * self.len\n",
    "    \n",
    "    def print_size(self):\n",
    "        print(\"I am {} by {}\".format(self.width, self.len))\n",
    "        \n",
    "a_square = Square(20, 20)\n",
    "a_square.print_size()\n",
    "\n",
    "a_shape = Shape(30, 30)\n",
    "a_shape.print_size()"
   ]
  },
  {
   "cell_type": "code",
   "execution_count": 11,
   "metadata": {
    "collapsed": false
   },
   "outputs": [
    {
     "name": "stdout",
     "output_type": "stream",
     "text": [
      "Mick Jagger\n"
     ]
    }
   ],
   "source": [
    "#コンポジション「has-a関係」\n",
    "#二つ以上のクラスの関係\n",
    "#別のクラス内のオブジェクトを変数として持たせる\n",
    "\n",
    "class Dog:\n",
    "    def __init__(self, name, breed, owner):\n",
    "        self.name = name\n",
    "        self.breed = breed\n",
    "        self.owner = owner\n",
    "        \n",
    "class Person:\n",
    "    def __init__(self, name):\n",
    "        self.name = name\n",
    "        \n",
    "mick = Person(\"Mick Jagger\")\n",
    "stan = Dog(\"Stanley\", \"Bulldog\", mick)\n",
    "print(stan.owner.name)"
   ]
  },
  {
   "cell_type": "code",
   "execution_count": 16,
   "metadata": {
    "collapsed": false
   },
   "outputs": [
    {
     "data": {
      "text/plain": [
       "100"
      ]
     },
     "execution_count": 16,
     "metadata": {},
     "output_type": "execute_result"
    }
   ],
   "source": [
    "#第13章チャレンジ\n",
    "#1.\n",
    "\n",
    "class Rectangle:\n",
    "    def __init__(self, w, l):\n",
    "        self.width = w\n",
    "        self.len = l\n",
    "        \n",
    "    def calculate_perimeter(self):\n",
    "        return self.width * 2 + self.len * 2\n",
    "\n",
    "class Square:\n",
    "    def __init__(self, w):\n",
    "        self.width = w\n",
    "    \n",
    "    def calculate_perimeter(self):\n",
    "        return self.width * 4\n",
    "\n",
    "Rec1 = Rectangle(20, 30)\n",
    "Rec1.calculate_perimeter()"
   ]
  },
  {
   "cell_type": "code",
   "execution_count": 17,
   "metadata": {
    "collapsed": false
   },
   "outputs": [
    {
     "data": {
      "text/plain": [
       "120"
      ]
     },
     "execution_count": 17,
     "metadata": {},
     "output_type": "execute_result"
    }
   ],
   "source": [
    "#1.\n",
    "\n",
    "Squ1 = Square(30)\n",
    "Squ1.calculate_perimeter()"
   ]
  },
  {
   "cell_type": "code",
   "execution_count": 22,
   "metadata": {
    "collapsed": false
   },
   "outputs": [
    {
     "name": "stdout",
     "output_type": "stream",
     "text": [
      "80\n",
      "60\n"
     ]
    }
   ],
   "source": [
    "#2.\n",
    "\n",
    "class Square:\n",
    "    def __init__(self, w):\n",
    "        self.width = w\n",
    "    \n",
    "    def calculate_perimeter(self):\n",
    "        return self.width * 4\n",
    "    \n",
    "    def change_size(self, c):\n",
    "        self.change = c\n",
    "        self.width = self.width + self.change\n",
    "\n",
    "Squ2 = Square(20)\n",
    "print(Squ2.calculate_perimeter())\n",
    "\n",
    "Squ2.change_size(-5)\n",
    "print(Squ2.calculate_perimeter())"
   ]
  },
  {
   "cell_type": "code",
   "execution_count": 25,
   "metadata": {
    "collapsed": false
   },
   "outputs": [
    {
     "data": {
      "text/plain": [
       "'I am a shape'"
      ]
     },
     "execution_count": 25,
     "metadata": {},
     "output_type": "execute_result"
    }
   ],
   "source": [
    "#3.\n",
    "\n",
    "class Shape:\n",
    "    def __init__(self):\n",
    "        pass\n",
    "    \n",
    "    def what_am_i(self):\n",
    "        return \"I am a shape\"\n",
    "    \n",
    "#test_shape = Shape()\n",
    "#test_shape.what_am_i()\n",
    "\n",
    "class Rectangle(Shape):\n",
    "    pass\n",
    "\n",
    "class Square(Shape):\n",
    "    pass\n",
    "\n",
    "Rec3 = Rectangle()\n",
    "Rec3.what_am_i()"
   ]
  },
  {
   "cell_type": "code",
   "execution_count": 27,
   "metadata": {
    "collapsed": false
   },
   "outputs": [
    {
     "data": {
      "text/plain": [
       "'I am a shape'"
      ]
     },
     "execution_count": 27,
     "metadata": {},
     "output_type": "execute_result"
    }
   ],
   "source": [
    "#3.\n",
    "\n",
    "Squ4 = Square()\n",
    "Squ4.what_am_i()"
   ]
  },
  {
   "cell_type": "code",
   "execution_count": 34,
   "metadata": {
    "collapsed": false
   },
   "outputs": [
    {
     "name": "stdout",
     "output_type": "stream",
     "text": [
      "Yutaka Take\n"
     ]
    }
   ],
   "source": [
    "#4.\n",
    "\n",
    "class Horse:\n",
    "    def __init__(self, n, r):\n",
    "        self.name = n\n",
    "        self.rider = r\n",
    "    \n",
    "class Rider:\n",
    "    def __init__(self, n):\n",
    "        self.name = n\n",
    "\n",
    "take = Rider(\"Yutaka Take\")   \n",
    "a_horse = Horse(\"Deep Impact\", take)\n",
    "print(a_horse.rider.name)"
   ]
  },
  {
   "cell_type": "code",
   "execution_count": null,
   "metadata": {
    "collapsed": true
   },
   "outputs": [],
   "source": []
  }
 ],
 "metadata": {
  "kernelspec": {
   "display_name": "Python 3",
   "language": "python",
   "name": "python3"
  },
  "language_info": {
   "codemirror_mode": {
    "name": "ipython",
    "version": 3
   },
   "file_extension": ".py",
   "mimetype": "text/x-python",
   "name": "python",
   "nbconvert_exporter": "python",
   "pygments_lexer": "ipython3",
   "version": "3.6.0"
  }
 },
 "nbformat": 4,
 "nbformat_minor": 2
}
