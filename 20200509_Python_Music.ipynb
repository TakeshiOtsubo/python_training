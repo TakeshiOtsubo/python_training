{
 "cells": [
  {
   "cell_type": "code",
   "execution_count": 24,
   "metadata": {
    "collapsed": false
   },
   "outputs": [
    {
     "name": "stdout",
     "output_type": "stream",
     "text": [
      "play\n"
     ]
    }
   ],
   "source": [
    "#番外編pyaudio test\n",
    "\n",
    "import pyaudio\n",
    "import numpy as np\n",
    "\n",
    "p = pyaudio.PyAudio()\n",
    "stream = p.open(format=pyaudio.paFloat32,\n",
    "               channels=1,\n",
    "               rate=44100,\n",
    "               frames_per_buffer=1024,\n",
    "               output=True)\n",
    "\n",
    "sample = np.sin(np.arange(50000) / 30)\n",
    "\n",
    "print(\"play\")\n",
    "stream.write(sample.astype(np.float32).tostring())\n",
    "stream.close()"
   ]
  },
  {
   "cell_type": "code",
   "execution_count": 13,
   "metadata": {
    "collapsed": false
   },
   "outputs": [
    {
     "name": "stdout",
     "output_type": "stream",
     "text": [
      "play\n"
     ]
    }
   ],
   "source": [
    "import pyaudio\n",
    "import numpy as np\n",
    "\n",
    "# サンプリングレートを定義 --- (*1)\n",
    "RATE = 44100\n",
    "\n",
    "# BPMや音長を定義 --- (*2)\n",
    "BPM = 100\n",
    "L1 = (60 / BPM * 4)\n",
    "L2,L4,L8 = (L1/2,L1/4,L1/8)\n",
    "\n",
    "# ドレミ...の周波数を定義 --- (*3)\n",
    "C,D,E,F,G,A,B,C2 = (\n",
    "        261.626, 293.665, 329.628, \n",
    "        349.228, 391.995, 440.000,\n",
    "        493.883, 523.251)\n",
    "\n",
    "C3,C4,C5,C6,C7,C8,C9,C10 = (100,200,300,400,500,600,700,800)\n",
    "\n",
    "# サイン波を生成 --- (*4)\n",
    "def tone(freq, length, gain):\n",
    "    slen = int(length * RATE)\n",
    "    t = float(freq) * np.pi * 2 / RATE\n",
    "    return np.sin(np.arange(slen) * t) * gain\n",
    "\n",
    "# 再生 --- (*5)\n",
    "def play_wave(stream, samples):\n",
    "    stream.write(samples.astype(np.float32).tostring())\n",
    "\n",
    "\n",
    "# 出力用のストリームを開く --- (*6)\n",
    "p = pyaudio.PyAudio()\n",
    "stream = p.open(format=pyaudio.paFloat32,\n",
    "                channels=1,\n",
    "                rate=RATE,\n",
    "                frames_per_buffer=1024,\n",
    "                output=True)\n",
    "\n",
    "# ドレミを再生 --- (*7)\n",
    "print(\"play\")\n",
    "play_wave(stream, tone(C3, L8, 1.0)) \n",
    "play_wave(stream, tone(C4, L8, 1.0)) \n",
    "play_wave(stream, tone(C5, L8, 1.0)) \n",
    "play_wave(stream, tone(C6, L8, 1.0)) \n",
    "play_wave(stream, tone(C7, L8, 1.0)) \n",
    "play_wave(stream, tone(C8, L8, 1.0))\n",
    "play_wave(stream, tone(C9, L8, 1.0)) \n",
    "play_wave(stream, tone(C10, L2, 1.0))\n",
    "play_wave(stream, tone(C9, L8, 1.0)) \n",
    "play_wave(stream, tone(C8, L8, 1.0)) \n",
    "play_wave(stream, tone(C7, L8, 1.0)) \n",
    "play_wave(stream, tone(C6, L8, 1.0)) \n",
    "play_wave(stream, tone(C5, L8, 1.0)) \n",
    "play_wave(stream, tone(C4, L8, 1.0))\n",
    "play_wave(stream, tone(C3, L8, 1.0)) \n",
    "play_wave(stream, tone(C10, L2, 1.0))\n",
    "stream.close()"
   ]
  },
  {
   "cell_type": "code",
   "execution_count": 11,
   "metadata": {
    "collapsed": false
   },
   "outputs": [
    {
     "name": "stdout",
     "output_type": "stream",
     "text": [
      "play\n"
     ]
    },
    {
     "ename": "OSError",
     "evalue": "[Errno -9988] Stream closed",
     "output_type": "error",
     "traceback": [
      "\u001b[0;31m---------------------------------------------------------------------------\u001b[0m",
      "\u001b[0;31mOSError\u001b[0m                                   Traceback (most recent call last)",
      "\u001b[0;32m<ipython-input-11-904ada52fcd6>\u001b[0m in \u001b[0;36m<module>\u001b[0;34m()\u001b[0m\n\u001b[1;32m      1\u001b[0m \u001b[0mprint\u001b[0m\u001b[1;33m(\u001b[0m\u001b[1;34m\"play\"\u001b[0m\u001b[1;33m)\u001b[0m\u001b[1;33m\u001b[0m\u001b[0m\n\u001b[0;32m----> 2\u001b[0;31m \u001b[0mplay_wave\u001b[0m\u001b[1;33m(\u001b[0m\u001b[0mstream\u001b[0m\u001b[1;33m,\u001b[0m \u001b[0mtone\u001b[0m\u001b[1;33m(\u001b[0m\u001b[0mC3\u001b[0m\u001b[1;33m,\u001b[0m \u001b[0mL8\u001b[0m\u001b[1;33m,\u001b[0m \u001b[1;36m1.0\u001b[0m\u001b[1;33m)\u001b[0m\u001b[1;33m)\u001b[0m\u001b[1;33m\u001b[0m\u001b[0m\n\u001b[0m\u001b[1;32m      3\u001b[0m \u001b[0mplay_wave\u001b[0m\u001b[1;33m(\u001b[0m\u001b[0mstream\u001b[0m\u001b[1;33m,\u001b[0m \u001b[0mtone\u001b[0m\u001b[1;33m(\u001b[0m\u001b[0mC4\u001b[0m\u001b[1;33m,\u001b[0m \u001b[0mL8\u001b[0m\u001b[1;33m,\u001b[0m \u001b[1;36m1.0\u001b[0m\u001b[1;33m)\u001b[0m\u001b[1;33m)\u001b[0m\u001b[1;33m\u001b[0m\u001b[0m\n\u001b[1;32m      4\u001b[0m \u001b[0mplay_wave\u001b[0m\u001b[1;33m(\u001b[0m\u001b[0mstream\u001b[0m\u001b[1;33m,\u001b[0m \u001b[0mtone\u001b[0m\u001b[1;33m(\u001b[0m\u001b[0mC5\u001b[0m\u001b[1;33m,\u001b[0m \u001b[0mL8\u001b[0m\u001b[1;33m,\u001b[0m \u001b[1;36m1.0\u001b[0m\u001b[1;33m)\u001b[0m\u001b[1;33m)\u001b[0m\u001b[1;33m\u001b[0m\u001b[0m\n\u001b[1;32m      5\u001b[0m \u001b[0mplay_wave\u001b[0m\u001b[1;33m(\u001b[0m\u001b[0mstream\u001b[0m\u001b[1;33m,\u001b[0m \u001b[0mtone\u001b[0m\u001b[1;33m(\u001b[0m\u001b[0mC6\u001b[0m\u001b[1;33m,\u001b[0m \u001b[0mL8\u001b[0m\u001b[1;33m,\u001b[0m \u001b[1;36m1.0\u001b[0m\u001b[1;33m)\u001b[0m\u001b[1;33m)\u001b[0m\u001b[1;33m\u001b[0m\u001b[0m\n",
      "\u001b[0;32m<ipython-input-10-6da3de15a053>\u001b[0m in \u001b[0;36mplay_wave\u001b[0;34m(stream, samples)\u001b[0m\n\u001b[1;32m     26\u001b[0m \u001b[1;31m# 再生 --- (*5)\u001b[0m\u001b[1;33m\u001b[0m\u001b[1;33m\u001b[0m\u001b[0m\n\u001b[1;32m     27\u001b[0m \u001b[1;32mdef\u001b[0m \u001b[0mplay_wave\u001b[0m\u001b[1;33m(\u001b[0m\u001b[0mstream\u001b[0m\u001b[1;33m,\u001b[0m \u001b[0msamples\u001b[0m\u001b[1;33m)\u001b[0m\u001b[1;33m:\u001b[0m\u001b[1;33m\u001b[0m\u001b[0m\n\u001b[0;32m---> 28\u001b[0;31m     \u001b[0mstream\u001b[0m\u001b[1;33m.\u001b[0m\u001b[0mwrite\u001b[0m\u001b[1;33m(\u001b[0m\u001b[0msamples\u001b[0m\u001b[1;33m.\u001b[0m\u001b[0mastype\u001b[0m\u001b[1;33m(\u001b[0m\u001b[0mnp\u001b[0m\u001b[1;33m.\u001b[0m\u001b[0mfloat32\u001b[0m\u001b[1;33m)\u001b[0m\u001b[1;33m.\u001b[0m\u001b[0mtostring\u001b[0m\u001b[1;33m(\u001b[0m\u001b[1;33m)\u001b[0m\u001b[1;33m)\u001b[0m\u001b[1;33m\u001b[0m\u001b[0m\n\u001b[0m\u001b[1;32m     29\u001b[0m \u001b[1;33m\u001b[0m\u001b[0m\n\u001b[1;32m     30\u001b[0m \u001b[1;33m\u001b[0m\u001b[0m\n",
      "\u001b[0;32mC:\\Users\\tsubo\\Anaconda3\\lib\\site-packages\\pyaudio.py\u001b[0m in \u001b[0;36mwrite\u001b[0;34m(self, frames, num_frames, exception_on_underflow)\u001b[0m\n\u001b[1;32m    584\u001b[0m \u001b[1;33m\u001b[0m\u001b[0m\n\u001b[1;32m    585\u001b[0m         pa.write_stream(self._stream, frames, num_frames,\n\u001b[0;32m--> 586\u001b[0;31m                         exception_on_underflow)\n\u001b[0m\u001b[1;32m    587\u001b[0m \u001b[1;33m\u001b[0m\u001b[0m\n\u001b[1;32m    588\u001b[0m \u001b[1;33m\u001b[0m\u001b[0m\n",
      "\u001b[0;31mOSError\u001b[0m: [Errno -9988] Stream closed"
     ]
    }
   ],
   "source": []
  },
  {
   "cell_type": "code",
   "execution_count": null,
   "metadata": {
    "collapsed": true
   },
   "outputs": [],
   "source": []
  }
 ],
 "metadata": {
  "kernelspec": {
   "display_name": "Python 3",
   "language": "python",
   "name": "python3"
  },
  "language_info": {
   "codemirror_mode": {
    "name": "ipython",
    "version": 3
   },
   "file_extension": ".py",
   "mimetype": "text/x-python",
   "name": "python",
   "nbconvert_exporter": "python",
   "pygments_lexer": "ipython3",
   "version": "3.6.0"
  }
 },
 "nbformat": 4,
 "nbformat_minor": 2
}
